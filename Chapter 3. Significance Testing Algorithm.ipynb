{
 "cells": [
  {
   "cell_type": "code",
   "execution_count": 1,
   "metadata": {},
   "outputs": [],
   "source": [
    "import numpy as np \n",
    "import matplotlib.pyplot as plt"
   ]
  },
  {
   "cell_type": "markdown",
   "metadata": {},
   "source": [
    "### Exercise 3.1\n",
    "\n",
    "How does the shift effect appear in the $p$-value histogram? "
   ]
  },
  {
   "cell_type": "markdown",
   "metadata": {},
   "source": [
    "### Exercise 3.2\n",
    "- (a) Verify (3.18). \n",
    "\n",
    "\n",
    "\n",
    "- (b) Show that (3.17) improves on (3.13) in the sense of making it easier to reject every $H_{0 i}$ at any given level $\\alpha$. \n",
    "\n",
    "\n",
    "\n",
    "- (c) Show that the Sidák procedure is $\\mathrm{FWER}_\\alpha$ if the $p$-values $p_{1}, p_{2}, \\ldots, p_{N}$ are statistically independent."
   ]
  },
  {
   "cell_type": "markdown",
   "metadata": {},
   "source": [
    "### Solution \n",
    "- (a)  Equation (3.18):  $  \\tilde{p}_{i}=1-\\left(1-p_{i}\\right)^{N}$. <br>\n",
    "    By the definition of adjusted $p$- value: $\\tilde{p}_{i}(\\boldsymbol{x}) =\\inf\\limits_{\\alpha} \\left\\{H_{0 i} \\text{ rejected by FWER}_{\\alpha} (\\boldsymbol{x})\\right\\}$. <br>\n",
    "Then $H_{0i}$ is rejected iff: \n",
    "\\begin{align}\n",
    "    &p_{i} \\leq 1-(1-\\alpha)^{1 / N}\\\\\n",
    "\\iff & (1 - \\alpha)^{1/N} \\leq  1- p_i \\\\\n",
    "\\iff & \\alpha \\ge 1- (1 - p_i)^N\n",
    "\\end{align}\n",
    "    Therefore \n",
    "$$ \\tilde{p}_i = \\inf\\limits_{\\alpha}\\{ {\\alpha \\ge 1 - (1 - p_i)^N} \\} = 1 - (1 - p_i)^N. $$\n",
    "\n",
    "- (b) Equation (3.13): $p_i ≤ \\alpha/N. $ <br>\n",
    "It suffices to prove that \n",
    "$$\\alpha/N \\le 1- (1- \\alpha)^{1/N}$$ <br>\n",
    "or\n",
    "$$1 - \\alpha \\le (1 - \\alpha/N)^ N,$$ <br>\n",
    "which is true since \n",
    "$$ (1 - \\alpha/N)^ N \\nearrow e^{-\\alpha} $$\n",
    "and\n",
    "$$ (1 - \\alpha/N)^ N = 1 - \\alpha \\text{  when  } N = 1 $$\n",
    "\n",
    "- (c) Under independence assumption:<br> \n",
    "\n",
    "\\begin{align}\n",
    "\\mathrm{FWER}_\\alpha \n",
    "&= Pr\\left ( \\bigcup_{I_0} \\left\\{ p_i \\le 1-(1 - \\alpha)^{1/N}\\right\\} \\right )\\\\\n",
    "&= 1 - Pr\\left ( \\bigcap_{I_0} \\left \\{ p_i > 1-(1 - \\alpha)^{1/N}\\right \\} \\right )\\\\\n",
    "&= 1 -  \\prod_{I_0} Pr\\left ( \\left \\{ p_i > 1-(1 - \\alpha)^{1/N}\\right \\} \\right )\\\\\n",
    "&= 1 -(1-\\alpha)^{N_0/N}\\\\\n",
    "&\\le \\alpha\n",
    "\\end{align}"
   ]
  },
  {
   "cell_type": "code",
   "execution_count": 21,
   "metadata": {},
   "outputs": [
    {
     "data": {
      "text/plain": [
       "Text(0,0.5,'reject threshold')"
      ]
     },
     "execution_count": 21,
     "metadata": {},
     "output_type": "execute_result"
    },
    {
     "data": {
      "image/png": "[encoded data removed]",
      "text/plain": [
       "<Figure size 432x288 with 1 Axes>"
      ]
     },
     "metadata": {
      "needs_background": "light"
     },
     "output_type": "display_data"
    }
   ],
   "source": [
    "# visualization of difference between bonforoni and sidak method \n",
    "N = np.arange(100, 1000)\n",
    "alpha = 0.5\n",
    "Bonforoni = alpha/N\n",
    "Sidak = 1 - (1- alpha)**(1/N)\n",
    "plt.plot(N, Bonforoni, label = 'Bonforoni')\n",
    "plt.plot(N, Sidak, label = 'Sidak')\n",
    "plt.legend()\n",
    "plt.xlabel('N')\n",
    "plt.ylabel('reject threshold')"
   ]
  },
  {
   "cell_type": "markdown",
   "metadata": {},
   "source": [
    "### Exercise 3.3\n",
    "Show that the adjusted $p$-value for Holm's procedure is\n",
    "\n",
    "$$\\tilde{p}_{(i)}=\\max _{j \\leq i}\\left\\{(N-j+1) p_{(j)}\\right\\}_{1}$$\n",
    "\n",
    "where $\\{x\\}_{1} \\equiv \\min (x, 1)$ as before."
   ]
  },
  {
   "cell_type": "markdown",
   "metadata": {},
   "source": [
    "### Solution\n",
    "**Holm's procedure**: the $H_{0(i)}$ is rejected if \n",
    "$$ p_{(j)} \\le \\frac{\\alpha}{N-j+1} \\text{ for } j = 1,2 \\ldots, i \\tag{3.20}.$$ \n",
    "By the definition of adjusted $p$-value: \n",
    "\\begin{align}\n",
    "    \\tilde{p}_{(i)} \n",
    "    &= \\inf\\limits_{\\alpha} \\left\\{H_{0 (i)} \\text{ rejected by FWER}_{\\alpha}(\\boldsymbol{x})\\right\\}  \\\\\n",
    "    &= \\inf\\limits_{\\alpha} \\left\\{p_{(j)} \\le \\frac{\\alpha}{N-j+1}\\text{ for } j=1,2, \\ldots, i\\right\\} \\\\ \n",
    "    &= \\inf\\limits_{\\alpha} \\left\\{ \\alpha \\ge ({N-j+1})p_{(j)} \\text{ for } j=1,2, \\ldots, i\\right\\} \\\\ \n",
    "    &= \\max _{j \\leq i}\\left\\{(N-j+1) p_{(j)}\\right\\}_{1}\n",
    "\\end{align}\n"
   ]
  },
  {
   "cell_type": "markdown",
   "metadata": {},
   "source": [
    "### Exercise 3.4 \n",
    "Suppose that all $N$ hypotheses $H_{0 i}$ are true and that the $N p$-values are mutually independent.\n",
    "\n",
    "Calculate the distribution of $\\tilde{p}_{(1)}= \\{N p_{(1)}\\}_{1}.$ \n",
    "\n",
    "What is the limiting distribution as $N$ goes to infinity?"
   ]
  },
  {
   "cell_type": "markdown",
   "metadata": {},
   "source": [
    "### Solution \n",
    "Under the null hypothesis, $p \\sim \\mathcal{U}(0,1)$. \n",
    "\n",
    "Thus $p_{(1)} \\sim f(x)$, where $f(x) = N(1-F)^{N-1}f = N(1 -  x)^{N-1}$. \n",
    "\n",
    "Hence \n",
    "\\begin{align}\n",
    "     Pr(\\tilde{p}_{(1)} < t) \n",
    "     &= P( \\{N p_{(1)}\\}_{1} < t)\\\\\n",
    "     &= \\int_0^{t/N} N(1-x)^{N-1} dx\\\\\n",
    "     &= 1- (1-t/N)^N.\n",
    "\\end{align}\n",
    "\n",
    "The limiting distribution is $ F(t) = 1 - e^{-t}$."
   ]
  },
  {
   "cell_type": "markdown",
   "metadata": {},
   "source": [
    "### Exercise 3.5 \n",
    "Explicate in detail the three steps in $(3.24)$ and the conclusion that follows."
   ]
  },
  {
   "cell_type": "markdown",
   "metadata": {},
   "source": [
    "#### Theorem \n",
    "Holm’s method satisfies the $\\textrm{FWER}$ control property.\n",
    "\n",
    "#### Proof\n",
    "PLet $I_{0}$ be the set of indices corresponding to true null hypotheses $H_{0 i}, N_{0}=\\# I_{0}$ the number of members of $I_{0},$ and $i_{0}=N-N_{0}+1 .$ \n",
    "\n",
    "Also let $\\hat{i}$ be the stopping index for Holm's procedure, i.e., the maximum index satisfying $(3.20) .$ The event\n",
    "\\begin{align} \n",
    "A=\\left\\{p_{(i)}>\\frac{\\alpha}{N_{0}} \\text { for all } i \\in I_{0}\\right\\} \n",
    "& \\Longrightarrow\\left\\{p_{(i_0)}>\\frac{\\alpha}{N_{0}}=\\frac{\\alpha}{N+1-i_{0}}\\right\\} \\\\\n",
    "& \\Longrightarrow\\left\\{\\hat{i}<i_{0}\\right\\} \\Longrightarrow\\left\\{p_{(\\hat{i})}<\\frac{\\alpha}{N_{0}}\\right\\} \\equiv B \\tag{3.24}\n",
    "\\end{align}\n",
    "\n",
    "However the Bonferroni bound shows that $\\operatorname{Pr}\\{A\\} \\geq 1-\\alpha,$ and $B$ implies\n",
    "that none of the true null hypotheses have been rejected."
   ]
  },
  {
   "cell_type": "markdown",
   "metadata": {},
   "source": [
    "### Solution to 3.5"
   ]
  },
  {
   "cell_type": "markdown",
   "metadata": {},
   "source": [
    "\n",
    "- If $p_{(i)}>\\frac{\\alpha}{N_{0}} \\text { for all } i \\in I_{0}$,then the smallest $p_{(i)} \\in I_0$, called $p^{I_0}_{(1)}$ must greater than $\\alpha/N_0$. And $p_{(i_0)} \\ge p^{I_0}_{(1)}$, hence\n",
    "$$A=\\left\\{p_{(i)}>\\frac{\\alpha}{N_{0}} \\text { for all } i \\in I_{0}\\right\\} \n",
    "\\Longrightarrow \\left\\{p_{(i_0)}>\\frac{\\alpha}{N_{0}}=\\frac{\\alpha}{N+1-i_{0}}\\right\\} .$$\n",
    "\n",
    "- Since $\\hat{i}$ is the largest index satisfying $(3.20)$, then \n",
    "$$\\left\\{p_{(i_0)}>\\frac{\\alpha}{N_{0}}=\\frac{\\alpha}{N+1-i_{0}}\\right\\} \n",
    "\\Longrightarrow \\left\\{\\hat{i}<i_{0}\\right\\} $$\n",
    "(Here might be a typo. It should be $\\left\\{\\hat{i}\\le i_{0}\\right\\}$.\n",
    "\n",
    "- If $\\hat{i}\\le i_{0}$, \n",
    "\\begin{align}\n",
    "p_{(\\hat{i})} <& \\frac{\\alpha}{N - \\hat{i} + 1} \n",
    " <\\frac{\\alpha}{N - i_0 + 1}\n",
    " = \\frac{\\alpha}{N_0}. \n",
    "\\end{align}\n",
    "\n",
    "Therefore, \n",
    "\n",
    "$$P(B) \\ge P(A) \\ge 1-\\alpha$$\n",
    "\n",
    "For any $i \\le \\hat{i}$, \n",
    "\n",
    "$$p_{(j)} < p_{(\\hat{i})} < \\frac{\\alpha}{N_0} < \\frac{\\alpha}{N- j +1} \\text{  for }j = 1, 2, \\ldots, i .$$\n",
    "\n",
    "Thus\n",
    "\\begin{align}\n",
    "\\mathrm{FWER} = & Pr\\{\\text{Reject any true }H_{0i}\\}\\\\\n",
    "= &\\Pr\\{\\bigcup_{i \\in I_0} H_{0i} \\text{ rejected }\\}\\\\\n",
    "\\le & \\sum_{i \\in I_0} Pr\\{ H_{0i} \\text{ rejected}\\}\\\\\n",
    "\\le & N_0\\cdot \\frac{\\alpha}{N_0} = \\alpha\n",
    "\\\\\n",
    "\\\\\n",
    "= & Pr\\{\\text{None of } H_{0i} \\text{ is rejected} \\}\\\\\n",
    "= & Pr\\{\\bigcap_{i \\in I_0} \\{H_{0i} \\text{ not rejected}\\}\\\\\n",
    "\\ge & Pr\\left\\{p_{(\\hat{i})}<\\frac{\\alpha}{N_{0}}\\right\\} \n",
    "\\end{align}\n",
    "\n",
    "<font color = red > to be continue </font>"
   ]
  },
  {
   "cell_type": "markdown",
   "metadata": {},
   "source": [
    "### Exercise 3.6 \n",
    "\n",
    "Complete the proof that Holm’s procedure is $\\textrm{FWER}_\\alpha$."
   ]
  },
  {
   "cell_type": "code",
   "execution_count": null,
   "metadata": {},
   "outputs": [],
   "source": []
  }
 ],
 "metadata": {
  "kernelspec": {
   "display_name": "Python 3",
   "language": "python",
   "name": "python3"
  },
  "language_info": {
   "codemirror_mode": {
    "name": "ipython",
    "version": 3
   },
   "file_extension": ".py",
   "mimetype": "text/x-python",
   "name": "python",
   "nbconvert_exporter": "python",
   "pygments_lexer": "ipython3",
   "version": "3.7.0"
  }
 },
 "nbformat": 4,
 "nbformat_minor": 2
}
